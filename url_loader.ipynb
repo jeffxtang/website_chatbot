{
 "cells": [
  {
   "cell_type": "code",
   "execution_count": 1,
   "id": "87d5fce9-2681-4ee9-964a-9d84beaca199",
   "metadata": {},
   "outputs": [],
   "source": [
    "from langchain_community.embeddings import HuggingFaceEmbeddings\n",
    "from langchain_community.vectorstores import FAISS\n",
    "from langchain_community.document_loaders import RecursiveUrlLoader\n",
    "from langchain.text_splitter import RecursiveCharacterTextSplitter"
   ]
  },
  {
   "cell_type": "code",
   "execution_count": 32,
   "id": "56059cbb-50c3-4c1b-92ea-bfc413895d5b",
   "metadata": {},
   "outputs": [],
   "source": [
    "import re\n",
    "\n",
    "from bs4 import BeautifulSoup\n",
    "\n",
    "def bs4_extractor(html: str) -> str:\n",
    "    soup = BeautifulSoup(html, \"html.parser\")\n",
    "    return re.sub(r\"\\n\\n+\", \"\\n\\n\", soup.text).strip()\n",
    "\n",
    "\n",
    "loader = RecursiveUrlLoader(\n",
    "    \"https://docs.python.org/3.9/\",\n",
    "    max_depth=4, # 2: 23 docs; 3: 481; 4: 25 (bug?); 5: 481\n",
    "    # use_async=False,\n",
    "    extractor=bs4_extractor,\n",
    "    # metadata_extractor=None,\n",
    "    # exclude_dirs=(),\n",
    "    # timeout=10,\n",
    "    # check_response_status=True,\n",
    "    # continue_on_failure=True,\n",
    "    # prevent_outside=True,\n",
    "    # base_url=None,\n",
    "    # ...\n",
    ")"
   ]
  },
  {
   "cell_type": "code",
   "execution_count": 33,
   "id": "5ae2166b-c314-4cf7-9d5d-be7a3baa1c45",
   "metadata": {},
   "outputs": [
    {
     "name": "stdout",
     "output_type": "stream",
     "text": [
      "25 documents loaded, 1st doc: page_content='3.9.19 Documentation\\n\\nDownload\\nDownload these documents\\nDocs by version\\n\\nPython 3.13 (in development)\\nPython 3.12 (stable)\\nPython 3.11 (security-fixes)\\nPython 3.10 (security-fixes)\\nPython 3.9 (security-fixes)\\nPython 3.8 (security-fixes)\\nPython 3.7 (EOL)\\nPython 3.6 (EOL)\\nPython 3.5 (EOL)\\nPython 3.4 (EOL)\\nPython 3.3 (EOL)\\nPython 3.2 (EOL)\\nPython 3.1 (EOL)\\nPython 3.0 (EOL)\\nPython 2.7 (EOL)\\nPython 2.6 (EOL)\\nAll versions\\n\\nOther resources\\n\\nPEP Index\\nBeginner\\'s Guide\\nBook List\\nAudio/Visual Talks\\nPython Developer’s Guide\\n\\nNavigation\\n\\nindex\\n\\nmodules |\\n\\nPython »\\n\\n3.9.19 Documentation »\\n    \\n\\n                     |\\n                \\n\\nPython 3.9.19 documentation\\n\\n  Welcome! This is the official documentation for Python 3.9.19.\\n  \\nParts of the documentation:\\n\\nWhat\\'s new in Python 3.9?\\n or all \"What\\'s new\" documents since 2.0\\nTutorial\\nstart here\\nLibrary Reference\\nkeep this under your pillow\\nLanguage Reference\\ndescribes syntax and language elements\\nPython Setup and Usage\\nhow to use Python on different platforms\\nPython HOWTOs\\nin-depth documents on specific topics\\n\\nInstalling Python Modules\\ninstalling from the Python Package Index & other sources\\nDistributing Python Modules\\npublishing modules for installation by others\\nExtending and Embedding\\ntutorial for C/C++ programmers\\nPython/C API\\nreference for C/C++ programmers\\nFAQs\\nfrequently asked questions (with answers!)\\n\\nIndices and tables:\\n\\nGlobal Module Index\\nquick access to all modules\\nGeneral Index\\nall functions, classes, terms\\nGlossary\\nthe most important terms explained\\n\\nSearch page\\nsearch this documentation\\nComplete Table of Contents\\nlists all sections and subsections\\n\\nMeta information:\\n\\nReporting bugs\\nContributing to Docs\\nAbout the documentation\\n\\nHistory and License of Python\\nCopyright\\n\\nDownload\\nDownload these documents\\nDocs by version\\n\\nPython 3.13 (in development)\\nPython 3.12 (stable)\\nPython 3.11 (security-fixes)\\nPython 3.10 (security-fixes)\\nPython 3.9 (security-fixes)\\nPython 3.8 (security-fixes)\\nPython 3.7 (EOL)\\nPython 3.6 (EOL)\\nPython 3.5 (EOL)\\nPython 3.4 (EOL)\\nPython 3.3 (EOL)\\nPython 3.2 (EOL)\\nPython 3.1 (EOL)\\nPython 3.0 (EOL)\\nPython 2.7 (EOL)\\nPython 2.6 (EOL)\\nAll versions\\n\\nOther resources\\n\\nPEP Index\\nBeginner\\'s Guide\\nBook List\\nAudio/Visual Talks\\nPython Developer’s Guide\\n\\nNavigation\\n\\nindex\\n\\nmodules |\\n\\nPython »\\n\\n3.9.19 Documentation »\\n    \\n\\n                     |\\n                \\n\\n    © Copyright 2001-2024, Python Software Foundation.\\n    \\n    This page is licensed under the Python Software Foundation License Version 2.\\n    \\n    Examples, recipes, and other code in the documentation are additionally licensed under the Zero Clause BSD License.\\n    \\n    See History and License for more information.\\n\\n    The Python Software Foundation is a non-profit corporation.\\nPlease donate.\\n\\n    Last updated on May 01, 2024.\\n    Found a bug?\\n    \\n\\n    Created using Sphinx 2.4.4.' metadata={'source': 'https://docs.python.org/3.9/', 'content_type': 'text/html', 'title': '3.9.19 Documentation', 'language': None}\n",
      "{'source': 'https://docs.python.org/3.9/', 'content_type': 'text/html', 'title': '3.9.19 Documentation', 'language': None}\n"
     ]
    }
   ],
   "source": [
    "documents = loader.load()\n",
    "print(f\"{len(documents)} documents loaded, 1st doc: {documents[0]}\")\n",
    "print(documents[0].metadata)\n"
   ]
  },
  {
   "cell_type": "code",
   "execution_count": null,
   "id": "d9878049-9310-435e-b3f8-66448687fd3b",
   "metadata": {},
   "outputs": [],
   "source": [
    "text_splitter = RecursiveCharacterTextSplitter(chunk_size=500,\n",
    "                                               chunk_overlap=50)\n",
    "splits = text_splitter.split_documents(documents)\n",
    "print(f\"{len(splits)} splits\")\n",
    "\n",
    "docs =[]\n",
    "for idx, split in enumerate(splits):\n",
    "    split.metadata.update({'id':idx})\n",
    "    docs.append(split)\n",
    "\n",
    "embeddings = HuggingFaceEmbeddings(model_name='sentence-transformers/all-MiniLM-L6-v2',\n",
    "                                    #'hkunlp/instructor-large', \n",
    "                                    #'sentence-transformers/all-MiniLM-L6-v2',\n",
    "                                   model_kwargs={'device': \"cpu\"})\n",
    "\n",
    "db = FAISS.from_documents(docs, embeddings)\n",
    "db.save_local(\"weburl.db\")"
   ]
  }
 ],
 "metadata": {
  "kernelspec": {
   "display_name": "Python 3 (ipykernel)",
   "language": "python",
   "name": "python3"
  },
  "language_info": {
   "codemirror_mode": {
    "name": "ipython",
    "version": 3
   },
   "file_extension": ".py",
   "mimetype": "text/x-python",
   "name": "python",
   "nbconvert_exporter": "python",
   "pygments_lexer": "ipython3",
   "version": "3.10.14"
  }
 },
 "nbformat": 4,
 "nbformat_minor": 5
}
